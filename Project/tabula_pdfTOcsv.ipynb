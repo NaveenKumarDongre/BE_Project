{
 "cells": [
  {
   "cell_type": "code",
   "execution_count": 10,
   "id": "ee21156c",
   "metadata": {},
   "outputs": [
    {
     "name": "stdout",
     "output_type": "stream",
     "text": [
      "Collecting tabula-py\n",
      "  Using cached tabula_py-2.5.1-py3-none-any.whl (12.0 MB)\n",
      "Collecting distro\n",
      "  Using cached distro-1.8.0-py3-none-any.whl (20 kB)\n",
      "Collecting pandas>=0.25.3\n",
      "  Downloading pandas-1.5.1-cp310-cp310-win_amd64.whl (10.4 MB)\n",
      "     ---------------------------------------- 10.4/10.4 MB 7.4 MB/s eta 0:00:00\n",
      "Requirement already satisfied: numpy in d:\\beproject\\be_project\\lib\\site-packages (from tabula-py) (1.23.4)\n",
      "Collecting pytz>=2020.1\n",
      "  Downloading pytz-2022.6-py2.py3-none-any.whl (498 kB)\n",
      "     ------------------------------------- 498.1/498.1 kB 10.6 MB/s eta 0:00:00\n",
      "Collecting python-dateutil>=2.8.1\n",
      "  Using cached python_dateutil-2.8.2-py2.py3-none-any.whl (247 kB)\n",
      "Collecting six>=1.5\n",
      "  Using cached six-1.16.0-py2.py3-none-any.whl (11 kB)\n",
      "Installing collected packages: pytz, six, distro, python-dateutil, pandas, tabula-py\n",
      "Successfully installed distro-1.8.0 pandas-1.5.1 python-dateutil-2.8.2 pytz-2022.6 six-1.16.0 tabula-py-2.5.1\n"
     ]
    },
    {
     "name": "stderr",
     "output_type": "stream",
     "text": [
      "\n",
      "[notice] A new release of pip available: 22.2.1 -> 22.3\n",
      "[notice] To update, run: python.exe -m pip install --upgrade pip\n"
     ]
    }
   ],
   "source": [
    "!pip install tabula-py"
   ]
  },
  {
   "cell_type": "code",
   "execution_count": 1,
   "id": "04c7bc3b",
   "metadata": {},
   "outputs": [],
   "source": [
    "import tabula\n",
    "import os\n",
    "# read PDF file\n",
    "tables = tabula.read_pdf(\"round.pdf\", pages=\"all\")"
   ]
  },
  {
   "cell_type": "code",
   "execution_count": 2,
   "id": "80eb4399",
   "metadata": {},
   "outputs": [],
   "source": [
    "# save them in a folder\n",
    "folder_name = \"tables\"\n",
    "if not os.path.isdir(folder_name):\n",
    "    os.mkdir(folder_name)\n",
    "# iterate over extracted tables and export as excel individually\n",
    "for i, table in enumerate(tables, start=1):\n",
    "    table.to_excel(os.path.join(folder_name, f\"table_{i}.xlsx\"), index=False)"
   ]
  },
  {
   "cell_type": "code",
   "execution_count": 3,
   "id": "b2e8b4f7",
   "metadata": {},
   "outputs": [],
   "source": [
    "# convert all tables of a PDF file into a single CSV file\n",
    "# supported output_formats are \"csv\", \"json\" or \"tsv\"\n",
    "tabula.convert_into(\"round.pdf\", \"output.csv\", output_format=\"csv\", pages=\"all\")"
   ]
  },
  {
   "cell_type": "code",
   "execution_count": 4,
   "id": "85c223b2",
   "metadata": {},
   "outputs": [],
   "source": [
    "# convert all PDFs in a folder into CSV format\n",
    "# `pdfs` folder should exist in the current directory\n",
    "tabula.convert_into_by_batch(\"tables\", output_format=\"csv\", pages=\"all\")"
   ]
  },
  {
   "cell_type": "code",
   "execution_count": null,
   "id": "be7efa35",
   "metadata": {},
   "outputs": [],
   "source": []
  },
  {
   "cell_type": "code",
   "execution_count": null,
   "id": "e82e6910",
   "metadata": {},
   "outputs": [],
   "source": []
  }
 ],
 "metadata": {
  "kernelspec": {
   "display_name": "Python 3 (ipykernel)",
   "language": "python",
   "name": "python3"
  },
  "language_info": {
   "codemirror_mode": {
    "name": "ipython",
    "version": 3
   },
   "file_extension": ".py",
   "mimetype": "text/x-python",
   "name": "python",
   "nbconvert_exporter": "python",
   "pygments_lexer": "ipython3",
   "version": "3.10.6"
  }
 },
 "nbformat": 4,
 "nbformat_minor": 5
}
